{
 "cells": [
  {
   "cell_type": "code",
   "execution_count": 1,
   "id": "8fc4cc17-61ce-4604-9353-886ed6c6166b",
   "metadata": {},
   "outputs": [],
   "source": [
    "import os"
   ]
  },
  {
   "cell_type": "code",
   "execution_count": 2,
   "id": "288d1629-a663-4c82-9e15-12b61853bb11",
   "metadata": {},
   "outputs": [
    {
     "data": {
      "text/plain": [
       "'/root/Projects/OfficeProj/sandip-image2mathml'"
      ]
     },
     "execution_count": 2,
     "metadata": {},
     "output_type": "execute_result"
    }
   ],
   "source": [
    "os.getcwd()"
   ]
  },
  {
   "cell_type": "code",
   "execution_count": 11,
   "id": "02d6ed04-2162-4012-be7b-f606d1175b6c",
   "metadata": {},
   "outputs": [
    {
     "name": "stdout",
     "output_type": "stream",
     "text": [
      "0\n"
     ]
    },
    {
     "data": {
      "text/plain": [
       "[]"
      ]
     },
     "execution_count": 11,
     "metadata": {},
     "output_type": "execute_result"
    }
   ],
   "source": [
    "img_dir = '/root/Projects/OfficeProj/sandip-image2mathml/static/images/usr_imgs'\n",
    "images = os.listdir(img_dir)\n",
    "print(len(images))\n",
    "images[:2]"
   ]
  },
  {
   "cell_type": "code",
   "execution_count": 10,
   "id": "73dfe98b-702e-4a72-8820-cd9c42d29933",
   "metadata": {},
   "outputs": [],
   "source": [
    "# c = 0\n",
    "for img in images:\n",
    "    img_path = f'{img_dir}/{img}'\n",
    "    # print(img_path)\n",
    "    os.remove(img_path)\n",
    "    # c += 1\n",
    "    # if c==5:\n",
    "    #     break"
   ]
  },
  {
   "cell_type": "code",
   "execution_count": null,
   "id": "148c1027-fa04-4f06-a384-8488a2118ada",
   "metadata": {},
   "outputs": [],
   "source": []
  }
 ],
 "metadata": {
  "kernelspec": {
   "display_name": "img2ml-env",
   "language": "python",
   "name": "img2ml-env"
  },
  "language_info": {
   "codemirror_mode": {
    "name": "ipython",
    "version": 3
   },
   "file_extension": ".py",
   "mimetype": "text/x-python",
   "name": "python",
   "nbconvert_exporter": "python",
   "pygments_lexer": "ipython3",
   "version": "3.10.7"
  }
 },
 "nbformat": 4,
 "nbformat_minor": 5
}
